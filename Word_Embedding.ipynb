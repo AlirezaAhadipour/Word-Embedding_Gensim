{
  "nbformat": 4,
  "nbformat_minor": 0,
  "metadata": {
    "colab": {
      "provenance": [],
      "gpuType": "T4",
      "authorship_tag": "ABX9TyMCo270Kbem/hu6boOD2kK6",
      "include_colab_link": true
    },
    "kernelspec": {
      "name": "python3",
      "display_name": "Python 3"
    },
    "language_info": {
      "name": "python"
    },
    "accelerator": "GPU",
    "gpuClass": "standard"
  },
  "cells": [
    {
      "cell_type": "markdown",
      "metadata": {
        "id": "view-in-github",
        "colab_type": "text"
      },
      "source": [
        "<a href=\"https://colab.research.google.com/github/AlirezaAhadipour/Word-Embedding_Gensim/blob/main/Word_Embedding.ipynb\" target=\"_parent\"><img src=\"https://colab.research.google.com/assets/colab-badge.svg\" alt=\"Open In Colab\"/></a>"
      ]
    },
    {
      "cell_type": "code",
      "execution_count": 1,
      "metadata": {
        "id": "EWHKDdYQ20ZG"
      },
      "outputs": [],
      "source": [
        "import gensim.downloader as api"
      ]
    },
    {
      "cell_type": "code",
      "source": [
        "info = api.info()\n",
        "for model_name, model_data in sorted(info['models'].items()):\n",
        "  print(\n",
        "      '%s (%d records): %s' % (\n",
        "          model_name,\n",
        "          model_data.get('num_records', -1),\n",
        "          model_data['description'][:40] + '...'\n",
        "      )\n",
        "  )"
      ],
      "metadata": {
        "colab": {
          "base_uri": "https://localhost:8080/"
        },
        "id": "P5esWrdH3CPa",
        "outputId": "63f9d616-3c1a-4df2-ed8a-0454cc8edde3"
      },
      "execution_count": 2,
      "outputs": [
        {
          "output_type": "stream",
          "name": "stdout",
          "text": [
            "__testing_word2vec-matrix-synopsis (-1 records): [THIS IS ONLY FOR TESTING] Word vecrors ...\n",
            "conceptnet-numberbatch-17-06-300 (1917247 records): ConceptNet Numberbatch consists of state...\n",
            "fasttext-wiki-news-subwords-300 (999999 records): 1 million word vectors trained on Wikipe...\n",
            "glove-twitter-100 (1193514 records): Pre-trained vectors based on  2B tweets,...\n",
            "glove-twitter-200 (1193514 records): Pre-trained vectors based on 2B tweets, ...\n",
            "glove-twitter-25 (1193514 records): Pre-trained vectors based on 2B tweets, ...\n",
            "glove-twitter-50 (1193514 records): Pre-trained vectors based on 2B tweets, ...\n",
            "glove-wiki-gigaword-100 (400000 records): Pre-trained vectors based on Wikipedia 2...\n",
            "glove-wiki-gigaword-200 (400000 records): Pre-trained vectors based on Wikipedia 2...\n",
            "glove-wiki-gigaword-300 (400000 records): Pre-trained vectors based on Wikipedia 2...\n",
            "glove-wiki-gigaword-50 (400000 records): Pre-trained vectors based on Wikipedia 2...\n",
            "word2vec-google-news-300 (3000000 records): Pre-trained vectors trained on a part of...\n",
            "word2vec-ruscorpora-300 (184973 records): Word2vec Continuous Skipgram vectors tra...\n"
          ]
        }
      ]
    },
    {
      "cell_type": "code",
      "source": [
        "w2v = api.load('word2vec-google-news-300')"
      ],
      "metadata": {
        "colab": {
          "base_uri": "https://localhost:8080/"
        },
        "id": "_IpLocQW4FOb",
        "outputId": "d2c6e214-5184-4aee-a6ae-cfbd3d4ac65f"
      },
      "execution_count": 3,
      "outputs": [
        {
          "output_type": "stream",
          "name": "stdout",
          "text": [
            "[==================================================] 100.0% 1662.8/1662.8MB downloaded\n"
          ]
        }
      ]
    },
    {
      "cell_type": "code",
      "source": [
        "glove = api.load(\"glove-twitter-50\")"
      ],
      "metadata": {
        "colab": {
          "base_uri": "https://localhost:8080/"
        },
        "id": "GKmIfafh5XXm",
        "outputId": "4141e13d-4043-49f3-e216-fe89d29fb2af"
      },
      "execution_count": 4,
      "outputs": [
        {
          "output_type": "stream",
          "name": "stdout",
          "text": [
            "[=================================================-] 99.5% 198.5/199.5MB downloaded\n"
          ]
        }
      ]
    },
    {
      "cell_type": "code",
      "source": [
        "fast_text = api.load('fasttext-wiki-news-subwords-300')"
      ],
      "metadata": {
        "colab": {
          "base_uri": "https://localhost:8080/"
        },
        "id": "qq4YXiUJ5uIH",
        "outputId": "02521b51-152c-436b-9858-3aa5766fa0f1"
      },
      "execution_count": 5,
      "outputs": [
        {
          "output_type": "stream",
          "name": "stdout",
          "text": [
            "[==================================================] 100.0% 958.5/958.4MB downloaded\n"
          ]
        }
      ]
    },
    {
      "cell_type": "code",
      "source": [
        "w2v.most_similar('tea')"
      ],
      "metadata": {
        "colab": {
          "base_uri": "https://localhost:8080/"
        },
        "id": "jn3YzzjZ57Oa",
        "outputId": "f7ff3794-d823-49fe-b023-76dd2aada867"
      },
      "execution_count": 10,
      "outputs": [
        {
          "output_type": "execute_result",
          "data": {
            "text/plain": [
              "[('Tea', 0.7009038329124451),\n",
              " ('teas', 0.6727380156517029),\n",
              " ('shape_Angius', 0.6323482990264893),\n",
              " ('activist_Jamie_Radtke', 0.5863860249519348),\n",
              " ('decaffeinated_brew', 0.5839536190032959),\n",
              " ('planter_bungalow', 0.575829029083252),\n",
              " ('herbal_tea', 0.5731174349784851),\n",
              " ('coffee', 0.5635291934013367),\n",
              " ('jasmine_tea', 0.548339307308197),\n",
              " ('Tea_NASDAQ_PEET', 0.5402544140815735)]"
            ]
          },
          "metadata": {},
          "execution_count": 10
        }
      ]
    },
    {
      "cell_type": "code",
      "source": [
        "glove.most_similar('tea')"
      ],
      "metadata": {
        "colab": {
          "base_uri": "https://localhost:8080/"
        },
        "id": "zybyZxEU6JWj",
        "outputId": "d79f1479-b991-4bcb-d572-7d86a4f5c5c6"
      },
      "execution_count": 11,
      "outputs": [
        {
          "output_type": "execute_result",
          "data": {
            "text/plain": [
              "[('coffee', 0.8929039239883423),\n",
              " ('milk', 0.8667818903923035),\n",
              " ('wine', 0.8507667183876038),\n",
              " ('cream', 0.8502466678619385),\n",
              " ('ice', 0.8362607955932617),\n",
              " ('juice', 0.8177549242973328),\n",
              " ('beer', 0.8157103657722473),\n",
              " ('sugar', 0.8099127411842346),\n",
              " ('cake', 0.8080540895462036),\n",
              " ('drink', 0.8000376224517822)]"
            ]
          },
          "metadata": {},
          "execution_count": 11
        }
      ]
    },
    {
      "cell_type": "code",
      "source": [
        "fast_text.most_similar('tea')"
      ],
      "metadata": {
        "colab": {
          "base_uri": "https://localhost:8080/"
        },
        "id": "124QB3N76MjF",
        "outputId": "22ac30dd-e8bd-44f9-d4bf-65081141c785"
      },
      "execution_count": 12,
      "outputs": [
        {
          "output_type": "execute_result",
          "data": {
            "text/plain": [
              "[('tea-', 0.7728264927864075),\n",
              " ('coffee', 0.7583761215209961),\n",
              " ('teas', 0.731768786907196),\n",
              " ('cuppa', 0.7301388382911682),\n",
              " ('teabags', 0.6973741054534912),\n",
              " ('Tea', 0.682609498500824),\n",
              " ('tea-drinking', 0.6748529076576233),\n",
              " ('teabag', 0.670712947845459),\n",
              " ('tea-making', 0.6683592200279236),\n",
              " ('tea-bags', 0.6638833284378052)]"
            ]
          },
          "metadata": {},
          "execution_count": 12
        }
      ]
    },
    {
      "cell_type": "code",
      "source": [
        "w2v.distance('tea', 'coffee')"
      ],
      "metadata": {
        "colab": {
          "base_uri": "https://localhost:8080/"
        },
        "id": "x0PXd2NE6Xji",
        "outputId": "e5230635-eddb-4883-ebb5-da09f4c4fb88"
      },
      "execution_count": 13,
      "outputs": [
        {
          "output_type": "execute_result",
          "data": {
            "text/plain": [
              "0.43647080659866333"
            ]
          },
          "metadata": {},
          "execution_count": 13
        }
      ]
    },
    {
      "cell_type": "code",
      "source": [
        "w2v.distance('tea', 'pea')"
      ],
      "metadata": {
        "colab": {
          "base_uri": "https://localhost:8080/"
        },
        "id": "aU3Po0MB6g6S",
        "outputId": "42d5f674-bbec-40d1-e76b-65be38504386"
      },
      "execution_count": 14,
      "outputs": [
        {
          "output_type": "execute_result",
          "data": {
            "text/plain": [
              "0.7058370113372803"
            ]
          },
          "metadata": {},
          "execution_count": 14
        }
      ]
    },
    {
      "cell_type": "code",
      "source": [
        "w2v.most_similar_cosmul(positive=['king', 'woman'], negative=['man'])"
      ],
      "metadata": {
        "colab": {
          "base_uri": "https://localhost:8080/"
        },
        "id": "1En9t3aC6l2c",
        "outputId": "b3c404d2-2406-472e-a674-8d5289049f75"
      },
      "execution_count": 17,
      "outputs": [
        {
          "output_type": "execute_result",
          "data": {
            "text/plain": [
              "[('queen', 0.9314123392105103),\n",
              " ('monarch', 0.858533501625061),\n",
              " ('princess', 0.8476566076278687),\n",
              " ('Queen_Consort', 0.8150269985198975),\n",
              " ('queens', 0.8099815249443054),\n",
              " ('crown_prince', 0.8089976906776428),\n",
              " ('royal_palace', 0.8027306795120239),\n",
              " ('monarchy', 0.8019613027572632),\n",
              " ('prince', 0.800979733467102),\n",
              " ('empress', 0.7958389520645142)]"
            ]
          },
          "metadata": {},
          "execution_count": 17
        }
      ]
    },
    {
      "cell_type": "code",
      "source": [
        "w2v.most_similar_cosmul(positive=['restaurant', 'cocktail'], negative=['dinner'])"
      ],
      "metadata": {
        "colab": {
          "base_uri": "https://localhost:8080/"
        },
        "id": "E_f6cvi27Eay",
        "outputId": "f7f4ba8f-49f3-4ff4-fc5b-585b88c02cea"
      },
      "execution_count": 18,
      "outputs": [
        {
          "output_type": "execute_result",
          "data": {
            "text/plain": [
              "[('eatery', 0.8693193793296814),\n",
              " ('bartender', 0.8536876440048218),\n",
              " ('bartenders', 0.8526809811592102),\n",
              " ('nightspot', 0.8493297100067139),\n",
              " ('Buddha_Bar', 0.8486438393592834),\n",
              " ('Pegu_Club', 0.8456864953041077),\n",
              " ('brewpub', 0.8379691243171692),\n",
              " ('La_Floridita', 0.836773157119751),\n",
              " ('cafe', 0.8341168165206909),\n",
              " ('Tres_Agaves', 0.830361545085907)]"
            ]
          },
          "metadata": {},
          "execution_count": 18
        }
      ]
    },
    {
      "cell_type": "code",
      "source": [],
      "metadata": {
        "id": "lX7sHUEk9c3Q"
      },
      "execution_count": null,
      "outputs": []
    }
  ]
}